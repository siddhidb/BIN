{
 "cells": [
  {
   "cell_type": "code",
   "execution_count": 1,
   "id": "f6733c0c-929f-484b-a0e9-5a5b4e299856",
   "metadata": {},
   "outputs": [
    {
     "name": "stdout",
     "output_type": "stream",
     "text": [
      "Coloring of graph:\n",
      "Vertex 0: Color 0\n",
      "Vertex 1: Color 1\n",
      "Vertex 2: Color 1\n",
      "Vertex 3: Color 2\n"
     ]
    }
   ],
   "source": [
    "class GraphColoring:\n",
    "    def __init__(self, graph, num_colors):\n",
    "        self.graph = graph\n",
    "        self.V = len(graph)\n",
    "        self.num_colors = num_colors\n",
    "        self.colors = [-1] * self.V\n",
    "\n",
    "    def is_safe(self, v, color):\n",
    "        for i in range(self.V):\n",
    "            if self.graph[v][i] == 1 and self.colors[i] == color:\n",
    "                return False\n",
    "        return True\n",
    "\n",
    "    def solve_graph_coloring(self, v):\n",
    "\n",
    "        if v == self.V:\n",
    "            return True\n",
    "\n",
    "        for color in range(self.num_colors):\n",
    "            if self.is_safe(v, color):\n",
    "                self.colors[v] = color\n",
    "                \n",
    "                if self.solve_graph_coloring(v + 1):\n",
    "                    return True\n",
    "          \n",
    "                self.colors[v] = -1\n",
    "\n",
    "        return False\n",
    "\n",
    "    def get_coloring(self):\n",
    "        # Start solving from the first vertex\n",
    "        if self.solve_graph_coloring(0):\n",
    "            return self.colors\n",
    "        else:\n",
    "            return None\n",
    "\n",
    "graph = [[0, 1, 1, 1], \n",
    "         [1, 0, 0, 1], \n",
    "         [1, 0, 0, 1], \n",
    "         [1, 1, 1, 0]]\n",
    "num_colors = 3\n",
    "\n",
    "coloring = GraphColoring(graph, num_colors)\n",
    "result = coloring.get_coloring()\n",
    "\n",
    "if result:\n",
    "    print(\"Coloring of graph:\")\n",
    "    for vertex in range(len(result)):\n",
    "        print(f\"Vertex {vertex}: Color {result[vertex]}\")\n",
    "else:\n",
    "    print(\"No solution exists.\")\n",
    "\n",
    "\n"
   ]
  },
  {
   "cell_type": "code",
   "execution_count": null,
   "id": "9814f2a1-9a17-44b1-b413-89af2337b944",
   "metadata": {},
   "outputs": [],
   "source": []
  }
 ],
 "metadata": {
  "kernelspec": {
   "display_name": "Python 3 (ipykernel)",
   "language": "python",
   "name": "python3"
  },
  "language_info": {
   "codemirror_mode": {
    "name": "ipython",
    "version": 3
   },
   "file_extension": ".py",
   "mimetype": "text/x-python",
   "name": "python",
   "nbconvert_exporter": "python",
   "pygments_lexer": "ipython3",
   "version": "3.11.3"
  }
 },
 "nbformat": 4,
 "nbformat_minor": 5
}
