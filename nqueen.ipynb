{
 "cells": [
  {
   "cell_type": "code",
   "execution_count": 1,
   "id": "0ee1e3c3-7241-4a6b-afc5-3a6b0291f4ae",
   "metadata": {},
   "outputs": [
    {
     "name": "stdin",
     "output_type": "stream",
     "text": [
      "Enter the number of queens (n):  4\n"
     ]
    },
    {
     "name": "stdout",
     "output_type": "stream",
     "text": [
      "Final 4-Queen Matrix:\n",
      ". Q . .\n",
      ". . . Q\n",
      "Q . . .\n",
      ". . Q .\n",
      "\n",
      "\n"
     ]
    }
   ],
   "source": [
    "def is_safe(board, row, col):\n",
    "\n",
    "    for i in range(row):\n",
    "        if board[i][col] == 1:\n",
    "            return False\n",
    "\n",
    "\n",
    "    for i, j in zip(range(row, -1, -1), range(col, -1, -1)):\n",
    "        if board[i][j] == 1:\n",
    "            return False\n",
    "\n",
    "\n",
    "    for i, j in zip(range(row, -1, -1), range(col, len(board))):\n",
    "        if board[i][j] == 1:\n",
    "            return False\n",
    "\n",
    "    return True\n",
    "\n",
    "def solve_queen(board, row):\n",
    "    n = len(board)\n",
    "\n",
    "\n",
    "    if row >= n:\n",
    "        return True\n",
    "\n",
    "    for col in range(n):\n",
    "        if is_safe(board, row, col):\n",
    "            # Place queen\n",
    "            board[row][col] = 1\n",
    "\n",
    "            if solve_queen(board, row + 1):\n",
    "                return True\n",
    "\n",
    "            board[row][col] = 0\n",
    "            \n",
    "    return False\n",
    "\n",
    "\n",
    "\n",
    "def print_board(board):\n",
    "    for row in board:\n",
    "        print(\" \".join(\"Q\" if x == 1 else \".\" for x in row))\n",
    "    print(\"\\n\")\n",
    "\n",
    "\n",
    "\n",
    "def solve_n_queen(n):\n",
    "\n",
    "    board = [[0 for _ in range(n)] for _ in range(n)]\n",
    "\n",
    "\n",
    "    if solve_queen(board, 0):\n",
    "        print(\"Final {}-Queen Matrix:\".format(n))\n",
    "        print_board(board)\n",
    "    else:\n",
    "        print(\"Solution does not exist for {} queens.\".format(n))\n",
    "\n",
    "\n",
    "n = int(input(\"Enter the number of queens (n): \"))\n",
    "solve_n_queen(n)\n",
    "\n"
   ]
  },
  {
   "cell_type": "code",
   "execution_count": null,
   "id": "2cf71bdf-4a3c-4bc9-a63c-4e4973f0f72a",
   "metadata": {},
   "outputs": [],
   "source": []
  }
 ],
 "metadata": {
  "kernelspec": {
   "display_name": "Python 3 (ipykernel)",
   "language": "python",
   "name": "python3"
  },
  "language_info": {
   "codemirror_mode": {
    "name": "ipython",
    "version": 3
   },
   "file_extension": ".py",
   "mimetype": "text/x-python",
   "name": "python",
   "nbconvert_exporter": "python",
   "pygments_lexer": "ipython3",
   "version": "3.11.3"
  }
 },
 "nbformat": 4,
 "nbformat_minor": 5
}
