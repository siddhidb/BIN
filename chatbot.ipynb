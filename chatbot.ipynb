{
 "cells": [
  {
   "cell_type": "code",
   "execution_count": 1,
   "id": "8edf01f1-a456-43f6-877e-60a0586f980e",
   "metadata": {},
   "outputs": [
    {
     "name": "stdout",
     "output_type": "stream",
     "text": [
      "Welcome to our store support chatbot! Type 'quit' to exit.\n"
     ]
    },
    {
     "name": "stdin",
     "output_type": "stream",
     "text": [
      ">  hi\n"
     ]
    },
    {
     "name": "stdout",
     "output_type": "stream",
     "text": [
      "Hello! How can I assist you?\n"
     ]
    },
    {
     "name": "stdin",
     "output_type": "stream",
     "text": [
      ">  hello\n"
     ]
    },
    {
     "name": "stdout",
     "output_type": "stream",
     "text": [
      "Hello! How can I assist you?\n"
     ]
    },
    {
     "name": "stdin",
     "output_type": "stream",
     "text": [
      ">  hello\n"
     ]
    },
    {
     "name": "stdout",
     "output_type": "stream",
     "text": [
      "Hello! How can I help you today?\n"
     ]
    },
    {
     "name": "stdin",
     "output_type": "stream",
     "text": [
      ">  hours\n"
     ]
    },
    {
     "name": "stdout",
     "output_type": "stream",
     "text": [
      "Our store is open Monday to Saturday from 9 AM to 9 PM, and on Sundays from 10 AM to 6 PM.\n"
     ]
    },
    {
     "name": "stdin",
     "output_type": "stream",
     "text": [
      ">  store\n"
     ]
    },
    {
     "name": "stdout",
     "output_type": "stream",
     "text": [
      "I'm here to assist with store hours, order status, and product availability.\n"
     ]
    },
    {
     "name": "stdin",
     "output_type": "stream",
     "text": [
      ">  status\n"
     ]
    },
    {
     "name": "stdout",
     "output_type": "stream",
     "text": [
      "I'm here to assist with store hours, order status, and product availability.\n"
     ]
    },
    {
     "name": "stdin",
     "output_type": "stream",
     "text": [
      ">  order\n"
     ]
    },
    {
     "name": "stdout",
     "output_type": "stream",
     "text": [
      "Please provide your Order ID so I can check the status for you.\n"
     ]
    },
    {
     "name": "stdin",
     "output_type": "stream",
     "text": [
      ">  product\n"
     ]
    },
    {
     "name": "stdout",
     "output_type": "stream",
     "text": [
      "Let me know the product name, and I’ll check if it's available.\n"
     ]
    },
    {
     "name": "stdin",
     "output_type": "stream",
     "text": [
      ">  quit\n"
     ]
    },
    {
     "name": "stdout",
     "output_type": "stream",
     "text": [
      "Goodbye!\n"
     ]
    }
   ],
   "source": [
    "import random\n",
    "\n",
    "greetings = [\"Hello! How can I help you today?\", \"Hi there! What can I do for you?\", \"Hello! How can I assist you?\"]\n",
    "store_hours = [\"Our store is open Monday to Saturday from 9 AM to 9 PM, and on Sundays from 10 AM to 6 PM.\"]\n",
    "order_status = [\"Please provide your Order ID so I can check the status for you.\"]\n",
    "product_availability = [\"Let me know the product name, and I’ll check if it's available.\"]\n",
    "goodbyes = [\"Thank you for visiting! Have a great day!\", \"Goodbye! Feel free to come back if you need more help.\"]\n",
    "\n",
    "def get_response(user_input):\n",
    "    user_input = user_input.lower()\n",
    "\n",
    "    if \"hi\" in user_input or \"hello\" in user_input:\n",
    "        return random.choice(greetings)\n",
    "    elif \"hours\" in user_input:\n",
    "        return random.choice(store_hours)\n",
    "    elif \"order\" in user_input:\n",
    "        return random.choice(order_status)\n",
    "    elif \"product\" in user_input:\n",
    "        return random.choice(product_availability)\n",
    "    elif \"bye\" in user_input:\n",
    "        return random.choice(goodbyes)\n",
    "    else:\n",
    "        return \"I'm here to assist with store hours, order status, and product availability.\"\n",
    "\n",
    "def customer_service_bot():\n",
    "    print(\"Welcome to our store support chatbot! Type 'quit' to exit.\")\n",
    "    while True:\n",
    "        user_input = input(\"> \")\n",
    "        if user_input.lower() == \"quit\":\n",
    "            print(\"Goodbye!\")\n",
    "            break\n",
    "        else:\n",
    "            print(get_response(user_input))\n",
    "\n",
    "\n",
    "customer_service_bot()\n",
    "\n"
   ]
  },
  {
   "cell_type": "code",
   "execution_count": null,
   "id": "11566fb0-723c-4b20-9ed7-eeb5c161eadc",
   "metadata": {},
   "outputs": [],
   "source": []
  }
 ],
 "metadata": {
  "kernelspec": {
   "display_name": "Python 3 (ipykernel)",
   "language": "python",
   "name": "python3"
  },
  "language_info": {
   "codemirror_mode": {
    "name": "ipython",
    "version": 3
   },
   "file_extension": ".py",
   "mimetype": "text/x-python",
   "name": "python",
   "nbconvert_exporter": "python",
   "pygments_lexer": "ipython3",
   "version": "3.11.3"
  }
 },
 "nbformat": 4,
 "nbformat_minor": 5
}
