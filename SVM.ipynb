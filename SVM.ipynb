{
 "cells": [
  {
   "cell_type": "code",
   "execution_count": 3,
   "id": "5246b200-f422-4cdc-9b1a-4ef47df6c1c8",
   "metadata": {},
   "outputs": [
    {
     "name": "stdout",
     "output_type": "stream",
     "text": [
      "Accuracy:  0.9120772946859903\n",
      "Precision:  0.89272030651341\n",
      "Recall:  0.7871621621621622\n",
      "Confusion Matrix: \n",
      "[[711  28]\n",
      " [ 63 233]]\n",
      "Classification Report: \n",
      "              precision    recall  f1-score   support\n",
      "\n",
      "           0       0.92      0.96      0.94       739\n",
      "           1       0.89      0.79      0.84       296\n",
      "\n",
      "    accuracy                           0.91      1035\n",
      "   macro avg       0.91      0.87      0.89      1035\n",
      "weighted avg       0.91      0.91      0.91      1035\n",
      "\n"
     ]
    }
   ],
   "source": [
    "# 1st cell\n",
    "import pandas as pd  \n",
    "from sklearn.model_selection import train_test_split  \n",
    "from sklearn.metrics import classification_report, confusion_matrix, accuracy_score, precision_score, recall_score  \n",
    "from sklearn.svm import SVC \n",
    "\n",
    "# 2nd cell: Load dataset\n",
    "data = pd.read_csv(\"Assignment 10.csv\")  \n",
    "\n",
    "# 3rd cell: Drop unnecessary column\n",
    "data = data.drop('Email No.', axis=1)  \n",
    "\n",
    "# 4th cell: Separate features and target variable\n",
    "X = data.drop('Prediction', axis=1)  \n",
    "y = data['Prediction']  \n",
    "\n",
    "# 5th cell:\n",
    "X = data.drop('Prediction', axis=1) \n",
    "y = data['Prediction']\n",
    "\n",
    "# 6th cell: Split data into training and testing sets\n",
    "X_train, X_test, y_train, y_test = train_test_split(X, y, test_size=0.2, random_state=42)\n",
    "\n",
    "# 7th cell: Initialize and train the Support Vector Classifier (SVC) model\n",
    "SVM = SVC(gamma='auto')  \n",
    "SVM.fit(X_train, y_train) \n",
    "\n",
    "# 8th cell: Make predictions on the test set\n",
    "y_pred = SVM.predict(X_test)  \n",
    "\n",
    "# 9th cell: Calculate and store evaluation metrics\n",
    "accuracy = accuracy_score(y_test, y_pred)  \n",
    "precision = precision_score(y_test, y_pred)  \n",
    "recall = recall_score(y_test, y_pred)  \n",
    "\n",
    "# 10th cell: Print evaluation metrics for the model\n",
    "print(\"Accuracy: \", accuracy)  \n",
    "print(\"Precision: \", precision)  \n",
    "print(\"Recall: \", recall)  \n",
    "\n",
    "# 11th cell: Compute and display confusion matrix\n",
    "cm = confusion_matrix(y_test, y_pred)  \n",
    "print(\"Confusion Matrix: \")\n",
    "print(cm) \n",
    "\n",
    "# 12th cell: Generate and display classification report\n",
    "print(\"Classification Report: \")\n",
    "print(classification_report(y_test, y_pred)) \n"
   ]
  },
  {
   "cell_type": "code",
   "execution_count": null,
   "id": "4fd8686c-9b5c-43de-ac4e-f97752fdd04e",
   "metadata": {},
   "outputs": [],
   "source": []
  }
 ],
 "metadata": {
  "kernelspec": {
   "display_name": "Python 3 (ipykernel)",
   "language": "python",
   "name": "python3"
  },
  "language_info": {
   "codemirror_mode": {
    "name": "ipython",
    "version": 3
   },
   "file_extension": ".py",
   "mimetype": "text/x-python",
   "name": "python",
   "nbconvert_exporter": "python",
   "pygments_lexer": "ipython3",
   "version": "3.11.3"
  }
 },
 "nbformat": 4,
 "nbformat_minor": 5
}
