{
 "cells": [
  {
   "cell_type": "code",
   "execution_count": null,
   "id": "0e282ceb-281f-4e83-840c-04f71d6f7fe3",
   "metadata": {},
   "outputs": [],
   "source": [
    "# 1st cell: Import necessary libraries\n",
    "import pandas as pd  \n",
    "import numpy as np  \n",
    "import matplotlib.pyplot as plt  \n",
    "from sklearn.cluster import KMeans  \n",
    "\n",
    "# 2nd cell: Load dataset and display the first few rows\n",
    "df = pd.read_csv(\"Assignment 11.csv\", encoding='latin') \n",
    "print(df.head())  \n",
    "\n",
    "# 3rd cell: Check data types of each column\n",
    "print(df.dtypes)  \n",
    "\n",
    "# 4th cell: Select features for clustering\n",
    "X = df.iloc[:, [3, 4]].values  \n",
    "\n",
    "# 5th cell: Initialize an empty list to store Within-Cluster Sum of Squares (WCSS)\n",
    "wcss = []  \n",
    "\n",
    "# 6th cell: Apply K-Means for different K values to calculate WCSS\n",
    "for i in range(1, 11):  \n",
    "    kmeans = KMeans(n_clusters=i, init=\"k-means++\", random_state=42)  \n",
    "    kmeans.fit(X)  \n",
    "    wcss.append(kmeans.inertia_) \n",
    "\n",
    "# 7th cell: Plot the elbow method to determine optimal K\n",
    "ks = [1, 2, 3, 4, 5, 6, 7, 8, 9, 10]  \n",
    "plt.plot(ks, wcss, 'bx-')  \n",
    "plt.title(\"Elbow Method\")  \n",
    "plt.xlabel(\"K value\")\n",
    "plt.ylabel(\"WCSS\")  \n",
    "plt.show() \n",
    "\n",
    "# 8th cell: Display summary statistics of the dataset\n",
    "print(df.describe()) \n",
    "\n",
    "# 9th cell: Scale the feature set using StandardScaler\n",
    "from sklearn.preprocessing import StandardScaler \n",
    "ss = StandardScaler() \n",
    "scaled = ss.fit_transform(X)  \n",
    "\n",
    "# 10th cell: Calculate WCSS for scaled data using different K values\n",
    "wcss = []  \n",
    "for i in range(1, 11): \n",
    "    clustering = KMeans(n_clusters=i, init=\"k-means++\", random_state=42)  \n",
    "    clustering.fit(scaled) \n",
    "    wcss.append(clustering.inertia_)  \n",
    "\n",
    "# 11th cell: Plot the elbow method for scaled data to determine optimal K\n",
    "plt.plot(ks, wcss, 'bx-')  \n",
    "plt.title(\"Elbow Method (Scaled Data)\")  \n",
    "plt.xlabel(\"K value\") \n",
    "plt.ylabel(\"WCSS\")  \n",
    "plt.show() \n"
   ]
  }
 ],
 "metadata": {
  "kernelspec": {
   "display_name": "Python 3 (ipykernel)",
   "language": "python",
   "name": "python3"
  },
  "language_info": {
   "codemirror_mode": {
    "name": "ipython",
    "version": 3
   },
   "file_extension": ".py",
   "mimetype": "text/x-python",
   "name": "python",
   "nbconvert_exporter": "python",
   "pygments_lexer": "ipython3",
   "version": "3.11.3"
  }
 },
 "nbformat": 4,
 "nbformat_minor": 5
}
